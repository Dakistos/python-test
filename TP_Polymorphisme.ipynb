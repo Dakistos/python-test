{
 "cells": [
  {
   "cell_type": "code",
   "execution_count": 10,
   "metadata": {},
   "outputs": [
    {
     "name": "stdout",
     "output_type": "stream",
     "text": [
      "\u001b[91mLettre:\u001b[0m\n",
      "Adresse destination: Paris\n",
      " Adresse expedition: Caen\n",
      " Poids: 150.00 grammes\n",
      " Mode: express \n",
      "Format: A4\n",
      "Prix du timbre: 0.75\n",
      "\u001b[91mColis:\u001b[0m\n",
      "Adresse destination: Lyon\n",
      " Adresse expedition: Bogota\n",
      " Poids: 3000.00 grammes\n",
      " Mode: normal \n",
      "Volume: 3\n",
      "Prix du timbre: 3.75\n"
     ]
    }
   ],
   "source": [
    "class color:\n",
    "    BOLD = '\\033[91m'\n",
    "    END = '\\033[0m'\n",
    "\n",
    "class BoiteAuxLettres:\n",
    "    \n",
    "    def __init__(self, destination, expedition, poids, mode):\n",
    "        self.poids = poids\n",
    "        self.mode = mode\n",
    "        self.destination = destination\n",
    "        self.expedition = expedition\n",
    "    \n",
    "    def ToString(self):\n",
    "        print('Adresse destination: %s\\n Adresse expedition: %s\\n Poids: %.2f grammes\\n Mode: %s '\n",
    "              %(self.destination, self.expedition, self.poids, self.mode))\n",
    "    \n",
    "class Lettre(BoiteAuxLettres):\n",
    "    \n",
    "    def __init__(self, destination, expedition, poids, mode, format):\n",
    "        BoiteAuxLettres.__init__(self, destination, expedition, poids, mode)\n",
    "        self.format = format\n",
    "        \n",
    "    def calculTimbre(self):\n",
    "        if self.format == 'A4':\n",
    "            prix=2.5\n",
    "        else:\n",
    "            prix=10\n",
    "            \n",
    "        total = prix*self.poids/1000\n",
    "        \n",
    "        if self.mode == 'express':\n",
    "            total*=2\n",
    "        \n",
    "        return total\n",
    "    \n",
    "    def ToString(self):\n",
    "        print(color.BOLD + 'Lettre:' + color.END)\n",
    "        BoiteAuxLettres.ToString(self)\n",
    "        print('Format:', self.format)\n",
    "        print('Prix du timbre:', self.calculTimbre())\n",
    "        \n",
    "class Colis(BoiteAuxLettres):\n",
    "    \n",
    "    def __init__(self, destination, expedition, poids, mode, volume):\n",
    "        BoiteAuxLettres.__init__(self, destination, expedition, poids, mode)\n",
    "        self.volume = volume\n",
    "        \n",
    "    def calculTimbre(self):\n",
    "        total = 0.25*self.volume + self.poids/1000\n",
    "        \n",
    "        if self.mode == 'express':\n",
    "            total*=2\n",
    "            \n",
    "        return total\n",
    "        \n",
    "    def ToString(self):\n",
    "        print(color.BOLD + 'Colis:' + color.END)\n",
    "        BoiteAuxLettres.ToString(self)\n",
    "        print('Volume:', self.volume)\n",
    "        print('Prix du timbre:', self.calculTimbre())\n",
    "\n",
    "    \n",
    "L1 = Lettre('Paris','Caen',150,'express','A4')\n",
    "L1.ToString()\n",
    "\n",
    "C1 = Colis('Lyon','Bogota',3000,'normal',3)\n",
    "C1.ToString()\n"
   ]
  },
  {
   "cell_type": "code",
   "execution_count": null,
   "metadata": {},
   "outputs": [],
   "source": []
  }
 ],
 "metadata": {
  "kernelspec": {
   "display_name": "Python 3",
   "language": "python",
   "name": "python3"
  },
  "language_info": {
   "codemirror_mode": {
    "name": "ipython",
    "version": 3
   },
   "file_extension": ".py",
   "mimetype": "text/x-python",
   "name": "python",
   "nbconvert_exporter": "python",
   "pygments_lexer": "ipython3",
   "version": "3.6.9"
  }
 },
 "nbformat": 4,
 "nbformat_minor": 4
}
